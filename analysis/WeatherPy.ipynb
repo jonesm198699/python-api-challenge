{
 "cells": [
  {
   "cell_type": "markdown",
   "metadata": {},
   "source": [
    "# WeatherPy\n",
    "\n",
    "---\n",
    "\n",
    "## Starter Code to Generate Random Geographic Coordinates and a List of Cities"
   ]
  },
  {
   "cell_type": "code",
   "execution_count": 1,
   "metadata": {
    "scrolled": true
   },
   "outputs": [],
   "source": [
    "# Dependencies and Setup\n",
    "import matplotlib.pyplot as plt\n",
    "import pandas as pd\n",
    "import numpy as np\n",
    "import requests\n",
    "import time\n",
    "from scipy.stats import linregress\n",
    "\n",
    "# Impor the OpenWeatherMap API key\n",
    "from api_keys import weather_api_key\n",
    "\n",
    "#Output file (cities.csv)\n",
    "output_data_file = \"../resources/cities.csv\"\n",
    "\n",
    "# Import citipy to determine the cities based on latitude and longitude\n",
    "from citipy import citipy\n"
   ]
  },
  {
   "cell_type": "markdown",
   "metadata": {},
   "source": [
    "### Generate the Cities List by Using the `citipy` Library"
   ]
  },
  {
   "cell_type": "code",
   "execution_count": 9,
   "metadata": {},
   "outputs": [
    {
     "name": "stdout",
     "output_type": "stream",
     "text": [
      "Number of cities in the list: 600\n"
     ]
    }
   ],
   "source": [
    "# Empty list for holding the latitude and longitude combinations\n",
    "lat_lngs = []\n",
    "\n",
    "# Empty list for holding the cities names\n",
    "cities = []\n",
    "units = \"metric\"\n",
    "# Range of latitudes and longitudes\n",
    "lat_range = (-90, 90)\n",
    "lng_range = (-180, 180)\n",
    "\n",
    "# Create a set of random lat and lng combinations\n",
    "lats = np.random.uniform(lat_range[0], lat_range[1], size=1500)\n",
    "lngs = np.random.uniform(lng_range[0], lng_range[1], size=1500)\n",
    "lat_lngs = zip(lats, lngs)\n",
    "\n",
    "# Identify nearest city for each lat, lng combination\n",
    "for lat_lng in lat_lngs:\n",
    "    city = citipy.nearest_city(lat_lng[0], lat_lng[1]).city_name\n",
    "    \n",
    "    # If the city is unique, then add it to a our cities list\n",
    "    if city not in cities:\n",
    "        cities.append(city)\n",
    "\n",
    "# Print the city count to confirm sufficient count\n",
    "print(f\"Number of cities in the list: {len(cities)}\")"
   ]
  },
  {
   "cell_type": "code",
   "execution_count": 10,
   "metadata": {},
   "outputs": [
    {
     "data": {
      "text/plain": [
       "'https://api.openweathermap.org/data/2.5/weather?lat=11.363376997007506&lon=-19.10384486488215&appid=889cc7f91cc31646ab7cbc99fac663a9&units=metric'"
      ]
     },
     "execution_count": 10,
     "metadata": {},
     "output_type": "execute_result"
    }
   ],
   "source": [
    "url = f'https://api.openweathermap.org/data/2.5/weather?lat={lats[0]}&lon={lngs[0]}&appid={weather_api_key}&units={units}'\n",
    "url"
   ]
  },
  {
   "cell_type": "code",
   "execution_count": null,
   "metadata": {},
   "outputs": [],
   "source": []
  },
  {
   "cell_type": "markdown",
   "metadata": {},
   "source": [
    "---"
   ]
  },
  {
   "cell_type": "markdown",
   "metadata": {},
   "source": [
    "## Requirement 1: Create Plots to Showcase the Relationship Between Weather Variables and Latitude\n",
    "\n",
    "### Use the OpenWeatherMap API to retrieve weather data from the cities list generated in the started code"
   ]
  },
  {
   "cell_type": "code",
   "execution_count": 11,
   "metadata": {},
   "outputs": [
    {
     "name": "stdout",
     "output_type": "stream",
     "text": [
      "Beginning Data Retrieval     \n",
      "-----------------------------\n",
      "Processing Record 1 of Set 1 | oussouye\n",
      "Processing Record 2 of Set 1 | bambous virieux\n",
      "Processing Record 3 of Set 1 | ostersund\n",
      "Processing Record 4 of Set 1 | albany\n",
      "Processing Record 5 of Set 1 | chokurdakh\n",
      "Processing Record 6 of Set 1 | hilo\n",
      "Processing Record 7 of Set 1 | ushuaia\n",
      "Processing Record 8 of Set 1 | thompson\n",
      "Processing Record 9 of Set 1 | mar del plata\n",
      "Processing Record 10 of Set 1 | sola\n",
      "Processing Record 11 of Set 1 | manoel urbano\n",
      "Processing Record 12 of Set 1 | ponta do sol\n",
      "Processing Record 13 of Set 1 | hobart\n",
      "Processing Record 14 of Set 1 | vaitupu\n",
      "City not found. Skipping...\n",
      "Processing Record 15 of Set 1 | marawi\n",
      "Processing Record 16 of Set 1 | parkes\n",
      "Processing Record 17 of Set 1 | byron bay\n",
      "Processing Record 18 of Set 1 | busselton\n",
      "Processing Record 19 of Set 1 | dunedin\n",
      "Processing Record 20 of Set 1 | minas\n",
      "Processing Record 21 of Set 1 | saint george\n",
      "Processing Record 22 of Set 1 | marcona\n",
      "City not found. Skipping...\n",
      "Processing Record 23 of Set 1 | atuona\n",
      "Processing Record 24 of Set 1 | balykshi\n",
      "Processing Record 25 of Set 1 | hendijan\n",
      "City not found. Skipping...\n",
      "Processing Record 26 of Set 1 | khatanga\n",
      "Processing Record 27 of Set 1 | kapaa\n",
      "Processing Record 28 of Set 1 | bredasdorp\n",
      "Processing Record 29 of Set 1 | victoria\n",
      "Processing Record 30 of Set 1 | tuktoyaktuk\n",
      "Processing Record 31 of Set 1 | abakaliki\n",
      "Processing Record 32 of Set 1 | ribeira grande\n",
      "Processing Record 33 of Set 1 | tjome\n",
      "Processing Record 34 of Set 1 | zapolyarnyy\n",
      "Processing Record 35 of Set 1 | tumannyy\n",
      "City not found. Skipping...\n",
      "Processing Record 36 of Set 1 | rikitea\n",
      "Processing Record 37 of Set 1 | cabo san lucas\n",
      "Processing Record 38 of Set 1 | coihaique\n",
      "Processing Record 39 of Set 1 | saint-philippe\n",
      "Processing Record 40 of Set 1 | yellowknife\n",
      "Processing Record 41 of Set 1 | mataura\n",
      "Processing Record 42 of Set 1 | vaini\n",
      "Processing Record 43 of Set 1 | grand river south east\n",
      "City not found. Skipping...\n",
      "Processing Record 44 of Set 1 | cape town\n",
      "Processing Record 45 of Set 1 | tawang\n",
      "Processing Record 46 of Set 1 | sept-iles\n",
      "Processing Record 47 of Set 1 | polunochnoye\n",
      "Processing Record 48 of Set 1 | lebu\n",
      "Processing Record 49 of Set 1 | miri\n",
      "Processing Record 50 of Set 1 | hambantota\n",
      "Processing Record 0 of Set 2 | port alfred\n",
      "Processing Record 1 of Set 2 | hermanus\n",
      "Processing Record 2 of Set 2 | butaritari\n",
      "Processing Record 3 of Set 2 | talnakh\n",
      "Processing Record 4 of Set 2 | yerbogachen\n",
      "Processing Record 5 of Set 2 | sao joao da barra\n",
      "Processing Record 6 of Set 2 | illoqqortoormiut\n",
      "City not found. Skipping...\n",
      "Processing Record 7 of Set 2 | tasiilaq\n",
      "Processing Record 8 of Set 2 | warwick\n",
      "Processing Record 9 of Set 2 | punta arenas\n",
      "Processing Record 10 of Set 2 | kaeo\n",
      "Processing Record 11 of Set 2 | lincoln\n",
      "Processing Record 12 of Set 2 | lorengau\n",
      "Processing Record 13 of Set 2 | caravelas\n",
      "Processing Record 14 of Set 2 | jamestown\n",
      "Processing Record 15 of Set 2 | vao\n",
      "Processing Record 16 of Set 2 | fortuna\n",
      "Processing Record 17 of Set 2 | sakakah\n",
      "Processing Record 18 of Set 2 | akdagmadeni\n",
      "Processing Record 19 of Set 2 | yurya\n",
      "City not found. Skipping...\n",
      "Processing Record 20 of Set 2 | sladkovo\n",
      "Processing Record 21 of Set 2 | shwebo\n",
      "Processing Record 22 of Set 2 | hithadhoo\n",
      "Processing Record 23 of Set 2 | arraial do cabo\n",
      "Processing Record 24 of Set 2 | tabulbah\n",
      "City not found. Skipping...\n",
      "Processing Record 25 of Set 2 | alofi\n",
      "Processing Record 26 of Set 2 | hofn\n",
      "Processing Record 27 of Set 2 | barentsburg\n",
      "City not found. Skipping...\n",
      "Processing Record 28 of Set 2 | half moon bay\n",
      "Processing Record 29 of Set 2 | asau\n",
      "Processing Record 30 of Set 2 | mezen\n",
      "Processing Record 31 of Set 2 | kosh-agach\n",
      "Processing Record 32 of Set 2 | narsaq\n",
      "Processing Record 33 of Set 2 | port macquarie\n",
      "Processing Record 34 of Set 2 | cidreira\n",
      "Processing Record 35 of Set 2 | namibe\n",
      "Processing Record 36 of Set 2 | saleaula\n",
      "City not found. Skipping...\n",
      "Processing Record 37 of Set 2 | bethel\n",
      "Processing Record 38 of Set 2 | afua\n",
      "Processing Record 39 of Set 2 | new norfolk\n",
      "Processing Record 40 of Set 2 | taolanaro\n",
      "City not found. Skipping...\n",
      "Processing Record 41 of Set 2 | norman wells\n",
      "Processing Record 42 of Set 2 | beruwala\n",
      "Processing Record 43 of Set 2 | bell ville\n",
      "Processing Record 44 of Set 2 | sayat\n",
      "Processing Record 45 of Set 2 | mys shmidta\n",
      "City not found. Skipping...\n",
      "Processing Record 46 of Set 2 | batagay-alyta\n",
      "Processing Record 47 of Set 2 | clyde river\n",
      "Processing Record 48 of Set 2 | ixtapa\n",
      "Processing Record 49 of Set 2 | ancud\n",
      "Processing Record 0 of Set 3 | padang\n",
      "Processing Record 1 of Set 3 | fare\n",
      "Processing Record 2 of Set 3 | ketchikan\n",
      "Processing Record 3 of Set 3 | hornepayne\n",
      "Processing Record 4 of Set 3 | bluff\n",
      "Processing Record 5 of Set 3 | krasnoselkup\n",
      "Processing Record 6 of Set 3 | nuuk\n",
      "Processing Record 7 of Set 3 | warqla\n",
      "City not found. Skipping...\n",
      "Processing Record 8 of Set 3 | nikolskoye\n",
      "Processing Record 9 of Set 3 | longyearbyen\n",
      "Processing Record 10 of Set 3 | xuddur\n",
      "Processing Record 11 of Set 3 | utiroa\n",
      "City not found. Skipping...\n",
      "Processing Record 12 of Set 3 | east london\n",
      "Processing Record 13 of Set 3 | lavrentiya\n",
      "Processing Record 14 of Set 3 | bambanglipuro\n",
      "Processing Record 15 of Set 3 | sentyabrskiy\n",
      "City not found. Skipping...\n",
      "Processing Record 16 of Set 3 | storforshei\n",
      "Processing Record 17 of Set 3 | yar-sale\n",
      "Processing Record 18 of Set 3 | serra talhada\n",
      "Processing Record 19 of Set 3 | suraabad\n",
      "Processing Record 20 of Set 3 | palu\n",
      "Processing Record 21 of Set 3 | college\n",
      "Processing Record 22 of Set 3 | terrak\n",
      "Processing Record 23 of Set 3 | bilma\n",
      "Processing Record 24 of Set 3 | broome\n",
      "Processing Record 25 of Set 3 | palmas de monte alto\n",
      "Processing Record 26 of Set 3 | tura\n",
      "Processing Record 27 of Set 3 | kuybysheve\n",
      "Processing Record 28 of Set 3 | lolua\n",
      "City not found. Skipping...\n",
      "Processing Record 29 of Set 3 | dudinka\n",
      "Processing Record 30 of Set 3 | castro\n",
      "Processing Record 31 of Set 3 | sao filipe\n",
      "Processing Record 32 of Set 3 | berlevag\n",
      "Processing Record 33 of Set 3 | husavik\n",
      "Processing Record 34 of Set 3 | ischia\n",
      "Processing Record 35 of Set 3 | upernavik\n",
      "Processing Record 36 of Set 3 | grand gaube\n",
      "Processing Record 37 of Set 3 | bud\n",
      "Processing Record 38 of Set 3 | provideniya\n",
      "Processing Record 39 of Set 3 | harper\n",
      "Processing Record 40 of Set 3 | airai\n",
      "Processing Record 41 of Set 3 | isangel\n",
      "Processing Record 42 of Set 3 | baykit\n",
      "Processing Record 43 of Set 3 | borama\n",
      "City not found. Skipping...\n",
      "Processing Record 44 of Set 3 | chadiza\n",
      "Processing Record 45 of Set 3 | luwuk\n",
      "Processing Record 46 of Set 3 | barrow\n",
      "Processing Record 47 of Set 3 | viedma\n",
      "Processing Record 48 of Set 3 | vestmannaeyjar\n",
      "Processing Record 49 of Set 3 | leningradskiy\n",
      "Processing Record 0 of Set 4 | bubaque\n",
      "Processing Record 1 of Set 4 | olafsvik\n",
      "Processing Record 2 of Set 4 | pevek\n",
      "Processing Record 3 of Set 4 | balikpapan\n",
      "Processing Record 4 of Set 4 | qaanaaq\n",
      "Processing Record 5 of Set 4 | saskylakh\n",
      "Processing Record 6 of Set 4 | tamandare\n",
      "Processing Record 7 of Set 4 | kangavar\n",
      "Processing Record 8 of Set 4 | saint-leu\n",
      "Processing Record 9 of Set 4 | coahuayana\n",
      "Processing Record 10 of Set 4 | pisco\n",
      "Processing Record 11 of Set 4 | tiksi\n",
      "Processing Record 12 of Set 4 | avarua\n",
      "Processing Record 13 of Set 4 | vanavara\n",
      "Processing Record 14 of Set 4 | lompoc\n",
      "Processing Record 15 of Set 4 | mantua\n",
      "Processing Record 16 of Set 4 | brokopondo\n",
      "Processing Record 17 of Set 4 | miki\n",
      "Processing Record 18 of Set 4 | attawapiskat\n",
      "City not found. Skipping...\n",
      "Processing Record 19 of Set 4 | bristol\n",
      "Processing Record 20 of Set 4 | srednekolymsk\n",
      "Processing Record 21 of Set 4 | egvekinot\n",
      "Processing Record 22 of Set 4 | makakilo city\n",
      "Processing Record 23 of Set 4 | phrai bung\n",
      "City not found. Skipping...\n",
      "Processing Record 24 of Set 4 | coos bay\n",
      "Processing Record 25 of Set 4 | barabinsk\n",
      "Processing Record 26 of Set 4 | victor harbor\n",
      "Processing Record 27 of Set 4 | tsihombe\n",
      "City not found. Skipping...\n",
      "Processing Record 28 of Set 4 | japura\n",
      "Processing Record 29 of Set 4 | sur\n",
      "Processing Record 30 of Set 4 | gat\n",
      "Processing Record 31 of Set 4 | redlands\n",
      "Processing Record 32 of Set 4 | amderma\n",
      "City not found. Skipping...\n",
      "Processing Record 33 of Set 4 | belfast\n",
      "Processing Record 34 of Set 4 | althofen\n"
     ]
    },
    {
     "name": "stdout",
     "output_type": "stream",
     "text": [
      "Processing Record 35 of Set 4 | karsun\n",
      "Processing Record 36 of Set 4 | buritama\n",
      "Processing Record 37 of Set 4 | fort saint james\n",
      "Processing Record 38 of Set 4 | fairbanks\n",
      "Processing Record 39 of Set 4 | maragogi\n",
      "Processing Record 40 of Set 4 | ikongo\n",
      "Processing Record 41 of Set 4 | bathsheba\n",
      "Processing Record 42 of Set 4 | les cayes\n",
      "Processing Record 43 of Set 4 | nome\n",
      "Processing Record 44 of Set 4 | strezhevoy\n",
      "Processing Record 45 of Set 4 | carnarvon\n",
      "Processing Record 46 of Set 4 | itaiba\n",
      "Processing Record 47 of Set 4 | ouadda\n",
      "Processing Record 48 of Set 4 | celestun\n",
      "Processing Record 49 of Set 4 | thurso\n",
      "Processing Record 0 of Set 5 | yicheng\n",
      "Processing Record 1 of Set 5 | mahebourg\n",
      "Processing Record 2 of Set 5 | chuy\n",
      "Processing Record 3 of Set 5 | cockburn town\n",
      "Processing Record 4 of Set 5 | beipiao\n",
      "Processing Record 5 of Set 5 | cockburn harbour\n",
      "City not found. Skipping...\n",
      "Processing Record 6 of Set 5 | nouadhibou\n",
      "Processing Record 7 of Set 5 | mims\n",
      "Processing Record 8 of Set 5 | vrangel\n",
      "Processing Record 9 of Set 5 | sofiysk\n",
      "City not found. Skipping...\n",
      "Processing Record 10 of Set 5 | arlit\n",
      "Processing Record 11 of Set 5 | faanui\n",
      "Processing Record 12 of Set 5 | turayf\n",
      "Processing Record 13 of Set 5 | kadykchan\n",
      "City not found. Skipping...\n",
      "Processing Record 14 of Set 5 | jawad\n",
      "Processing Record 15 of Set 5 | cap malheureux\n",
      "Processing Record 16 of Set 5 | ust-koksa\n",
      "Processing Record 17 of Set 5 | tyumentsevo\n",
      "Processing Record 18 of Set 5 | saint-joseph\n",
      "Processing Record 19 of Set 5 | port elizabeth\n",
      "Processing Record 20 of Set 5 | morondava\n",
      "Processing Record 21 of Set 5 | garachine\n",
      "Processing Record 22 of Set 5 | ascension\n",
      "Processing Record 23 of Set 5 | elizabeth city\n",
      "Processing Record 24 of Set 5 | gilbues\n",
      "Processing Record 25 of Set 5 | la esperanza\n",
      "Processing Record 26 of Set 5 | vangaindrano\n",
      "Processing Record 27 of Set 5 | chornyanka\n",
      "Processing Record 28 of Set 5 | general roca\n",
      "Processing Record 29 of Set 5 | geraldton\n",
      "Processing Record 30 of Set 5 | sayyan\n",
      "Processing Record 31 of Set 5 | srandakan\n",
      "Processing Record 32 of Set 5 | athabasca\n",
      "Processing Record 33 of Set 5 | san cristobal\n",
      "Processing Record 34 of Set 5 | copiapo\n",
      "Processing Record 35 of Set 5 | kihei\n",
      "Processing Record 36 of Set 5 | kavaratti\n",
      "Processing Record 37 of Set 5 | dikson\n",
      "Processing Record 38 of Set 5 | mahmudia\n",
      "Processing Record 39 of Set 5 | reinosa\n",
      "Processing Record 40 of Set 5 | ola\n",
      "Processing Record 41 of Set 5 | tongsa\n",
      "City not found. Skipping...\n",
      "Processing Record 42 of Set 5 | alice springs\n",
      "Processing Record 43 of Set 5 | belushya guba\n",
      "City not found. Skipping...\n",
      "Processing Record 44 of Set 5 | esperance\n",
      "Processing Record 45 of Set 5 | georgetown\n",
      "Processing Record 46 of Set 5 | nago\n",
      "Processing Record 47 of Set 5 | lasa\n",
      "Processing Record 48 of Set 5 | puerto ayora\n",
      "Processing Record 49 of Set 5 | falun\n",
      "Processing Record 0 of Set 6 | kodiak\n",
      "Processing Record 1 of Set 6 | rocha\n",
      "Processing Record 2 of Set 6 | avera\n",
      "Processing Record 3 of Set 6 | union\n",
      "Processing Record 4 of Set 6 | galle\n",
      "Processing Record 5 of Set 6 | liberty\n",
      "Processing Record 6 of Set 6 | ojinaga\n",
      "Processing Record 7 of Set 6 | ballina\n",
      "Processing Record 8 of Set 6 | rochegda\n",
      "Processing Record 9 of Set 6 | cradock\n",
      "Processing Record 10 of Set 6 | linxia\n",
      "Processing Record 11 of Set 6 | kaitangata\n",
      "Processing Record 12 of Set 6 | gualaquiza\n",
      "Processing Record 13 of Set 6 | touros\n",
      "Processing Record 14 of Set 6 | kikwit\n",
      "Processing Record 15 of Set 6 | narasannapeta\n",
      "Processing Record 16 of Set 6 | lufilufi\n",
      "Processing Record 17 of Set 6 | kuche\n",
      "City not found. Skipping...\n",
      "Processing Record 18 of Set 6 | kandi\n",
      "Processing Record 19 of Set 6 | cherskiy\n",
      "Processing Record 20 of Set 6 | soyo\n",
      "Processing Record 21 of Set 6 | hualmay\n",
      "Processing Record 22 of Set 6 | jimenez\n",
      "Processing Record 23 of Set 6 | pudozh\n",
      "Processing Record 24 of Set 6 | jackson\n",
      "Processing Record 25 of Set 6 | nanakuli\n",
      "Processing Record 26 of Set 6 | faya\n",
      "Processing Record 27 of Set 6 | tupelo\n",
      "Processing Record 28 of Set 6 | mubende\n",
      "Processing Record 29 of Set 6 | thaba-tseka\n",
      "Processing Record 30 of Set 6 | macusani\n",
      "Processing Record 31 of Set 6 | luang prabang\n",
      "Processing Record 32 of Set 6 | maniitsoq\n",
      "Processing Record 33 of Set 6 | la presa\n",
      "Processing Record 34 of Set 6 | kavieng\n",
      "Processing Record 35 of Set 6 | bitung\n",
      "Processing Record 36 of Set 6 | souillac\n",
      "Processing Record 37 of Set 6 | dhidhdhoo\n",
      "Processing Record 38 of Set 6 | hobyo\n",
      "Processing Record 39 of Set 6 | alta floresta\n",
      "Processing Record 40 of Set 6 | beringovskiy\n",
      "Processing Record 41 of Set 6 | saldanha\n",
      "Processing Record 42 of Set 6 | makeni\n",
      "Processing Record 43 of Set 6 | port hedland\n",
      "Processing Record 44 of Set 6 | wolbrom\n",
      "Processing Record 45 of Set 6 | torit\n",
      "Processing Record 46 of Set 6 | synya\n",
      "Processing Record 47 of Set 6 | russell\n",
      "Processing Record 48 of Set 6 | ahipara\n",
      "Processing Record 49 of Set 6 | pacific grove\n",
      "Processing Record 0 of Set 7 | aklavik\n",
      "Processing Record 1 of Set 7 | margate\n",
      "Processing Record 2 of Set 7 | samusu\n",
      "City not found. Skipping...\n",
      "Processing Record 3 of Set 7 | hagen\n",
      "Processing Record 4 of Set 7 | ferme-neuve\n",
      "Processing Record 5 of Set 7 | weyburn\n",
      "Processing Record 6 of Set 7 | dumas\n",
      "Processing Record 7 of Set 7 | ust-nera\n",
      "Processing Record 8 of Set 7 | inderborskiy\n",
      "City not found. Skipping...\n",
      "Processing Record 9 of Set 7 | mercedes\n",
      "Processing Record 10 of Set 7 | ishigaki\n",
      "Processing Record 11 of Set 7 | octeville\n",
      "Processing Record 12 of Set 7 | abu dhabi\n",
      "Processing Record 13 of Set 7 | oktyabrskiy\n",
      "Processing Record 14 of Set 7 | tevriz\n",
      "Processing Record 15 of Set 7 | kontagora\n",
      "Processing Record 16 of Set 7 | takoradi\n",
      "Processing Record 17 of Set 7 | nanortalik\n",
      "Processing Record 18 of Set 7 | pedro juan caballero\n",
      "Processing Record 19 of Set 7 | dongzhen\n",
      "Processing Record 20 of Set 7 | puyang\n",
      "Processing Record 21 of Set 7 | vaitape\n",
      "Processing Record 22 of Set 7 | umzimvubu\n",
      "City not found. Skipping...\n",
      "Processing Record 23 of Set 7 | labuhan\n",
      "Processing Record 24 of Set 7 | opuwo\n",
      "Processing Record 25 of Set 7 | ambilobe\n",
      "Processing Record 26 of Set 7 | yumen\n",
      "Processing Record 27 of Set 7 | samfya\n",
      "Processing Record 28 of Set 7 | bereda\n",
      "Processing Record 29 of Set 7 | yantal\n",
      "Processing Record 30 of Set 7 | san isidro\n",
      "Processing Record 31 of Set 7 | hamilton\n",
      "Processing Record 32 of Set 7 | raudeberg\n",
      "Processing Record 33 of Set 7 | balkanabat\n",
      "Processing Record 34 of Set 7 | portree\n",
      "Processing Record 35 of Set 7 | san bartolome de tirajana\n",
      "Processing Record 36 of Set 7 | luxor\n",
      "Processing Record 37 of Set 7 | laguna\n",
      "Processing Record 38 of Set 7 | teguise\n",
      "Processing Record 39 of Set 7 | tezu\n",
      "Processing Record 40 of Set 7 | boyolangu\n",
      "Processing Record 41 of Set 7 | keflavik\n",
      "Processing Record 42 of Set 7 | luchegorsk\n",
      "Processing Record 43 of Set 7 | wau\n",
      "Processing Record 44 of Set 7 | broken hill\n",
      "Processing Record 45 of Set 7 | namatanai\n",
      "Processing Record 46 of Set 7 | xichang\n",
      "Processing Record 47 of Set 7 | ngukurr\n",
      "City not found. Skipping...\n",
      "Processing Record 48 of Set 7 | alpine\n",
      "Processing Record 49 of Set 7 | isla vista\n",
      "Processing Record 0 of Set 8 | roebourne\n",
      "Processing Record 1 of Set 8 | leshukonskoye\n",
      "Processing Record 2 of Set 8 | juneau\n",
      "Processing Record 3 of Set 8 | kanungu\n",
      "Processing Record 4 of Set 8 | kudahuvadhoo\n",
      "Processing Record 5 of Set 8 | dingle\n",
      "Processing Record 6 of Set 8 | vanderhoof\n",
      "Processing Record 7 of Set 8 | camocim\n",
      "Processing Record 8 of Set 8 | roald\n",
      "Processing Record 9 of Set 8 | skalistyy\n",
      "City not found. Skipping...\n",
      "Processing Record 10 of Set 8 | mount gambier\n",
      "Processing Record 11 of Set 8 | koslan\n",
      "Processing Record 12 of Set 8 | gopalpur\n",
      "Processing Record 13 of Set 8 | saint-pierre\n",
      "Processing Record 14 of Set 8 | bengkulu\n",
      "Processing Record 15 of Set 8 | guerrero negro\n",
      "Processing Record 16 of Set 8 | grindavik\n",
      "Processing Record 17 of Set 8 | camacha\n",
      "Processing Record 18 of Set 8 | lata\n",
      "Processing Record 19 of Set 8 | grand-santi\n",
      "Processing Record 20 of Set 8 | fort nelson\n",
      "Processing Record 21 of Set 8 | palana\n",
      "Processing Record 22 of Set 8 | haarby\n",
      "City not found. Skipping...\n",
      "Processing Record 23 of Set 8 | tuatapere\n",
      "Processing Record 24 of Set 8 | buraydah\n",
      "Processing Record 25 of Set 8 | hasaki\n",
      "Processing Record 26 of Set 8 | sahrak\n",
      "City not found. Skipping...\n",
      "Processing Record 27 of Set 8 | necochea\n"
     ]
    },
    {
     "name": "stdout",
     "output_type": "stream",
     "text": [
      "Processing Record 28 of Set 8 | oxford\n",
      "Processing Record 29 of Set 8 | sao felix do xingu\n",
      "Processing Record 30 of Set 8 | severo-kurilsk\n",
      "Processing Record 31 of Set 8 | itarema\n",
      "Processing Record 32 of Set 8 | kendari\n",
      "Processing Record 33 of Set 8 | antofagasta\n",
      "Processing Record 34 of Set 8 | tarko-sale\n",
      "Processing Record 35 of Set 8 | novonikolayevskiy\n",
      "Processing Record 36 of Set 8 | phan thiet\n",
      "Processing Record 37 of Set 8 | tessalit\n",
      "Processing Record 38 of Set 8 | rolim de moura\n",
      "City not found. Skipping...\n",
      "Processing Record 39 of Set 8 | singkang\n",
      "Processing Record 40 of Set 8 | pagman\n",
      "City not found. Skipping...\n",
      "Processing Record 41 of Set 8 | rawson\n",
      "Processing Record 42 of Set 8 | whitehorse\n",
      "Processing Record 43 of Set 8 | ulaangom\n",
      "Processing Record 44 of Set 8 | banda aceh\n",
      "Processing Record 45 of Set 8 | kuito\n",
      "Processing Record 46 of Set 8 | tucupita\n",
      "Processing Record 47 of Set 8 | qiongshan\n",
      "Processing Record 48 of Set 8 | obo\n",
      "Processing Record 49 of Set 8 | chifeng\n",
      "Processing Record 0 of Set 9 | kailua\n",
      "Processing Record 1 of Set 9 | shache\n",
      "Processing Record 2 of Set 9 | south yuba city\n",
      "Processing Record 3 of Set 9 | rassvet\n",
      "Processing Record 4 of Set 9 | batticaloa\n",
      "Processing Record 5 of Set 9 | baruun-urt\n",
      "Processing Record 6 of Set 9 | lagoa\n",
      "Processing Record 7 of Set 9 | benghazi\n",
      "Processing Record 8 of Set 9 | portokhelion\n",
      "City not found. Skipping...\n",
      "Processing Record 9 of Set 9 | noumea\n",
      "Processing Record 10 of Set 9 | ilabaya\n",
      "Processing Record 11 of Set 9 | pangnirtung\n",
      "Processing Record 12 of Set 9 | ortigueira\n",
      "Processing Record 13 of Set 9 | powell river\n",
      "Processing Record 14 of Set 9 | ngunguru\n",
      "Processing Record 15 of Set 9 | mazamari\n",
      "Processing Record 16 of Set 9 | taoudenni\n",
      "Processing Record 17 of Set 9 | lexington\n",
      "Processing Record 18 of Set 9 | iwaki\n",
      "Processing Record 19 of Set 9 | rockingham\n",
      "Processing Record 20 of Set 9 | kirakira\n",
      "Processing Record 21 of Set 9 | mme\n",
      "City not found. Skipping...\n",
      "Processing Record 22 of Set 9 | tucuman\n",
      "Processing Record 23 of Set 9 | cururupu\n",
      "Processing Record 24 of Set 9 | the pas\n",
      "Processing Record 25 of Set 9 | torbay\n",
      "Processing Record 26 of Set 9 | sacramento\n",
      "Processing Record 27 of Set 9 | antigonish\n",
      "Processing Record 28 of Set 9 | goderich\n",
      "Processing Record 29 of Set 9 | vanimo\n",
      "Processing Record 30 of Set 9 | banff\n",
      "Processing Record 31 of Set 9 | santa maria\n",
      "Processing Record 32 of Set 9 | matagami\n",
      "Processing Record 33 of Set 9 | chabahar\n",
      "Processing Record 34 of Set 9 | curup\n",
      "Processing Record 35 of Set 9 | mazagao\n",
      "Processing Record 36 of Set 9 | itoman\n",
      "Processing Record 37 of Set 9 | havelock\n",
      "Processing Record 38 of Set 9 | solnechnyy\n",
      "Processing Record 39 of Set 9 | dzhusaly\n",
      "City not found. Skipping...\n",
      "Processing Record 40 of Set 9 | lingao\n",
      "Processing Record 41 of Set 9 | china\n",
      "Processing Record 42 of Set 9 | safaga\n",
      "Processing Record 43 of Set 9 | chapais\n",
      "Processing Record 44 of Set 9 | chaiya\n",
      "Processing Record 45 of Set 9 | vila franca do campo\n",
      "Processing Record 46 of Set 9 | san policarpo\n",
      "Processing Record 47 of Set 9 | seymchan\n",
      "Processing Record 48 of Set 9 | aripuana\n",
      "Processing Record 49 of Set 9 | klaksvik\n",
      "Processing Record 0 of Set 10 | likasi\n",
      "Processing Record 1 of Set 10 | kruisfontein\n",
      "Processing Record 2 of Set 10 | richards bay\n",
      "Processing Record 3 of Set 10 | meulaboh\n",
      "Processing Record 4 of Set 10 | jiazi\n",
      "Processing Record 5 of Set 10 | emba\n",
      "Processing Record 6 of Set 10 | ous\n",
      "Processing Record 7 of Set 10 | amnat charoen\n",
      "Processing Record 8 of Set 10 | iqaluit\n",
      "Processing Record 9 of Set 10 | astorga\n",
      "Processing Record 10 of Set 10 | fuyang\n",
      "Processing Record 11 of Set 10 | lappeenranta\n",
      "Processing Record 12 of Set 10 | gander\n",
      "Processing Record 13 of Set 10 | ugoofaaru\n",
      "Processing Record 14 of Set 10 | merauke\n",
      "Processing Record 15 of Set 10 | praia\n",
      "Processing Record 16 of Set 10 | kayerkan\n",
      "Processing Record 17 of Set 10 | maltahohe\n",
      "Processing Record 18 of Set 10 | mount isa\n",
      "Processing Record 19 of Set 10 | axim\n",
      "Processing Record 20 of Set 10 | paka\n",
      "Processing Record 21 of Set 10 | uray\n",
      "Processing Record 22 of Set 10 | cuamba\n",
      "Processing Record 23 of Set 10 | kibaya\n",
      "Processing Record 24 of Set 10 | belaya gora\n",
      "Processing Record 25 of Set 10 | gornozavodsk\n",
      "Processing Record 26 of Set 10 | bryan\n",
      "Processing Record 27 of Set 10 | kazalinsk\n",
      "City not found. Skipping...\n",
      "Processing Record 28 of Set 10 | bismarck\n",
      "Processing Record 29 of Set 10 | nishihara\n",
      "Processing Record 30 of Set 10 | huilong\n",
      "Processing Record 31 of Set 10 | aykhal\n",
      "Processing Record 32 of Set 10 | rizhao\n",
      "Processing Record 33 of Set 10 | anadyr\n",
      "Processing Record 34 of Set 10 | muroto\n",
      "Processing Record 35 of Set 10 | golyshmanovo\n",
      "Processing Record 36 of Set 10 | coquimbo\n",
      "Processing Record 37 of Set 10 | bonavista\n",
      "Processing Record 38 of Set 10 | nizwa\n",
      "Processing Record 39 of Set 10 | sterling\n",
      "Processing Record 40 of Set 10 | nizhneyansk\n",
      "City not found. Skipping...\n",
      "Processing Record 41 of Set 10 | augusto correa\n",
      "Processing Record 42 of Set 10 | arawa\n",
      "Processing Record 43 of Set 10 | tokur\n",
      "Processing Record 44 of Set 10 | aksarka\n",
      "Processing Record 45 of Set 10 | gabu\n",
      "Processing Record 46 of Set 10 | gorom-gorom\n",
      "Processing Record 47 of Set 10 | kamenka\n",
      "Processing Record 48 of Set 10 | fuling\n",
      "Processing Record 49 of Set 10 | acarau\n",
      "Processing Record 0 of Set 11 | berezniki\n",
      "Processing Record 1 of Set 11 | lodwar\n",
      "Processing Record 2 of Set 11 | san jose\n",
      "Processing Record 3 of Set 11 | atar\n",
      "Processing Record 4 of Set 11 | evensk\n",
      "Processing Record 5 of Set 11 | svetlyy\n",
      "Processing Record 6 of Set 11 | sergeyevka\n",
      "Processing Record 7 of Set 11 | urdzhar\n",
      "City not found. Skipping...\n",
      "Processing Record 8 of Set 11 | sorland\n",
      "Processing Record 9 of Set 11 | tual\n",
      "Processing Record 10 of Set 11 | izhma\n",
      "Processing Record 11 of Set 11 | crab hill\n",
      "City not found. Skipping...\n",
      "Processing Record 12 of Set 11 | ostrovnoy\n",
      "Processing Record 13 of Set 11 | ordzhonikidze\n",
      "Processing Record 14 of Set 11 | cassilandia\n",
      "Processing Record 15 of Set 11 | la maddalena\n",
      "Processing Record 16 of Set 11 | zigong\n",
      "Processing Record 17 of Set 11 | koindu\n",
      "Processing Record 18 of Set 11 | nhulunbuy\n",
      "Processing Record 19 of Set 11 | asosa\n",
      "Processing Record 20 of Set 11 | northam\n",
      "Processing Record 21 of Set 11 | new glasgow\n",
      "Processing Record 22 of Set 11 | novoagansk\n",
      "Processing Record 23 of Set 11 | flin flon\n",
      "Processing Record 24 of Set 11 | taltal\n",
      "Processing Record 25 of Set 11 | hihifo\n",
      "City not found. Skipping...\n",
      "Processing Record 26 of Set 11 | moerai\n",
      "Processing Record 27 of Set 11 | boende\n",
      "Processing Record 28 of Set 11 | jurado\n",
      "Processing Record 29 of Set 11 | vardo\n",
      "Processing Record 30 of Set 11 | boddam\n",
      "Processing Record 31 of Set 11 | pochutla\n",
      "Processing Record 32 of Set 11 | portland\n",
      "Processing Record 33 of Set 11 | mongomo\n",
      "Processing Record 34 of Set 11 | tubruq\n",
      "City not found. Skipping...\n",
      "Processing Record 35 of Set 11 | abyek\n",
      "Processing Record 36 of Set 11 | najran\n",
      "Processing Record 37 of Set 11 | tevaitoa\n",
      "Processing Record 38 of Set 11 | jumla\n",
      "Processing Record 39 of Set 11 | los llanos de aridane\n",
      "Processing Record 40 of Set 11 | umm lajj\n",
      "Processing Record 41 of Set 11 | hokitika\n",
      "Processing Record 42 of Set 11 | santa cruz\n",
      "Processing Record 43 of Set 11 | dezful\n",
      "Processing Record 44 of Set 11 | puri\n",
      "Processing Record 45 of Set 11 | bandarbeyla\n",
      "Processing Record 46 of Set 11 | sitka\n",
      "Processing Record 47 of Set 11 | yushala\n",
      "Processing Record 48 of Set 11 | mareeba\n",
      "Processing Record 49 of Set 11 | samalaeulu\n",
      "City not found. Skipping...\n",
      "Processing Record 0 of Set 12 | tasbuget\n",
      "City not found. Skipping...\n",
      "Processing Record 1 of Set 12 | vaovai\n",
      "City not found. Skipping...\n",
      "Processing Record 2 of Set 12 | louis trichardt\n",
      "Processing Record 3 of Set 12 | ocos\n",
      "Processing Record 4 of Set 12 | chagda\n",
      "City not found. Skipping...\n",
      "Processing Record 5 of Set 12 | yagoua\n",
      "Processing Record 6 of Set 12 | perth\n",
      "Processing Record 7 of Set 12 | brande\n",
      "Processing Record 8 of Set 12 | sao miguel do araguaia\n",
      "Processing Record 9 of Set 12 | harstad\n",
      "Processing Record 10 of Set 12 | kamenskoye\n",
      "City not found. Skipping...\n",
      "Processing Record 11 of Set 12 | presidencia roque saenz pena\n",
      "Processing Record 12 of Set 12 | tiznit\n",
      "Processing Record 13 of Set 12 | havoysund\n",
      "Processing Record 14 of Set 12 | paris\n",
      "Processing Record 15 of Set 12 | cancun\n"
     ]
    },
    {
     "name": "stdout",
     "output_type": "stream",
     "text": [
      "Processing Record 16 of Set 12 | hami\n",
      "Processing Record 17 of Set 12 | sombrio\n",
      "Processing Record 18 of Set 12 | clarence town\n",
      "Processing Record 19 of Set 12 | woodward\n",
      "Processing Record 20 of Set 12 | mandalgovi\n",
      "Processing Record 21 of Set 12 | tamale\n",
      "Processing Record 22 of Set 12 | ustynivka\n",
      "Processing Record 23 of Set 12 | mnogovershinnyy\n",
      "Processing Record 24 of Set 12 | bilibino\n",
      "Processing Record 25 of Set 12 | catuday\n",
      "Processing Record 26 of Set 12 | bondo\n",
      "Processing Record 27 of Set 12 | kahului\n",
      "Processing Record 28 of Set 12 | jishou\n",
      "Processing Record 29 of Set 12 | yenagoa\n",
      "Processing Record 30 of Set 12 | grand forks\n",
      "Processing Record 31 of Set 12 | lafia\n",
      "Processing Record 32 of Set 12 | san quintin\n",
      "Processing Record 33 of Set 12 | vysokopillya\n",
      "Processing Record 34 of Set 12 | ambanja\n",
      "Processing Record 35 of Set 12 | la romana\n",
      "Processing Record 36 of Set 12 | ilulissat\n",
      "Processing Record 37 of Set 12 | nicoya\n",
      "Processing Record 38 of Set 12 | tsabong\n",
      "Processing Record 39 of Set 12 | meyungs\n",
      "City not found. Skipping...\n",
      "Processing Record 40 of Set 12 | felipe carrillo puerto\n",
      "Processing Record 41 of Set 12 | ilka\n",
      "City not found. Skipping...\n",
      "Processing Record 42 of Set 12 | katsuura\n",
      "Processing Record 43 of Set 12 | hunza\n",
      "City not found. Skipping...\n",
      "Processing Record 44 of Set 12 | tiarei\n",
      "Processing Record 45 of Set 12 | cotofenii din dos\n",
      "Processing Record 46 of Set 12 | prince rupert\n",
      "Processing Record 47 of Set 12 | gravdal\n",
      "Processing Record 48 of Set 12 | leh\n",
      "Processing Record 49 of Set 12 | north bend\n",
      "-----------------------------\n",
      "Data Retrieval Complete      \n",
      "-----------------------------\n"
     ]
    }
   ],
   "source": [
    "# Set the API base URL\n",
    "#url = f'https://api.openweathermap.org/data/2.5/weather?appid={weather_api_key}'\n",
    "url = f'https://api.openweathermap.org/data/2.5/weather?lat={lats[0]}&lon={lngs[0]}&appid={weather_api_key}&units={units}'\n",
    "# Define an empty list to fetch the weather data for each city\n",
    "city_data = []\n",
    "\n",
    "# Print to logger\n",
    "print(\"Beginning Data Retrieval     \")\n",
    "print(\"-----------------------------\")\n",
    "\n",
    "# Create counters\n",
    "record_count = 1\n",
    "set_count = 1\n",
    "\n",
    "# Loop through all the cities in our list to fetch weather data\n",
    "for i, city in enumerate(cities):\n",
    "        \n",
    "    # Group cities in sets of 50 for logging purposes\n",
    "    if (i % 50 == 0 and i >= 50):\n",
    "        set_count += 1\n",
    "        record_count = 0\n",
    "\n",
    "    # Create endpoint URL with each city\n",
    "    city_url = url + \"&q=\" + city\n",
    "    \n",
    "    # Log the url, record, and set numbers\n",
    "    print(\"Processing Record %s of Set %s | %s\" % (record_count, set_count, city))\n",
    "\n",
    "    # Add 1 to the record count\n",
    "    record_count += 1\n",
    "\n",
    "    # Run an API request for each of the cities\n",
    "    try:\n",
    "        # Parse the JSON and retrieve data\n",
    "        city_weather = requests.get(city_url).json()\n",
    "        \n",
    "        # Parse out latitude, longitude, max temp, humidity, cloudiness, wind speed, country, and date\n",
    "        city_lat = city_weather[\"coord\"][\"lat\"]\n",
    "        city_lng = city_weather[\"coord\"][\"lon\"]\n",
    "        city_max_temp = city_weather['main']['temp_max']\n",
    "        city_humidity = city_weather['main']['humidity']\n",
    "        city_clouds = city_weather['clouds']['all']\n",
    "        city_wind = city_weather['wind']['speed']\n",
    "        city_country = city_weather['sys']['country']\n",
    "        city_date = city_weather['dt']\n",
    "\n",
    "        # Append the City information into city_data list\n",
    "        city_data.append({\"City\": city, \n",
    "                          \"Lat\": city_lat, \n",
    "                          \"Lng\": city_lng, \n",
    "                          \"Max Temp\": city_max_temp,\n",
    "                          \"Humidity\": city_humidity,\n",
    "                          \"Cloudiness\": city_clouds,\n",
    "                          \"Wind Speed\": city_wind,\n",
    "                          \"Country\": city_country,\n",
    "                          \"Date\": city_date})\n",
    "\n",
    "    # If an error is experienced, skip the city\n",
    "    except:\n",
    "        print(\"City not found. Skipping...\")\n",
    "        pass\n",
    "              \n",
    "# Indicate that Data Loading is complete \n",
    "print(\"-----------------------------\")\n",
    "print(\"Data Retrieval Complete      \")\n",
    "print(\"-----------------------------\")"
   ]
  },
  {
   "cell_type": "code",
   "execution_count": 12,
   "metadata": {},
   "outputs": [
    {
     "data": {
      "text/plain": [
       "City          547\n",
       "Lat           547\n",
       "Lng           547\n",
       "Max Temp      547\n",
       "Humidity      547\n",
       "Cloudiness    547\n",
       "Wind Speed    547\n",
       "Country       547\n",
       "Date          547\n",
       "dtype: int64"
      ]
     },
     "execution_count": 12,
     "metadata": {},
     "output_type": "execute_result"
    }
   ],
   "source": [
    "# Convert the cities weather data into a Pandas DataFrame\n",
    "city_data_df = pd.DataFrame(city_data)\n",
    "\n",
    "# Show Record Count\n",
    "city_data_df.count()"
   ]
  },
  {
   "cell_type": "code",
   "execution_count": 13,
   "metadata": {},
   "outputs": [
    {
     "data": {
      "text/html": [
       "<div>\n",
       "<style scoped>\n",
       "    .dataframe tbody tr th:only-of-type {\n",
       "        vertical-align: middle;\n",
       "    }\n",
       "\n",
       "    .dataframe tbody tr th {\n",
       "        vertical-align: top;\n",
       "    }\n",
       "\n",
       "    .dataframe thead th {\n",
       "        text-align: right;\n",
       "    }\n",
       "</style>\n",
       "<table border=\"1\" class=\"dataframe\">\n",
       "  <thead>\n",
       "    <tr style=\"text-align: right;\">\n",
       "      <th></th>\n",
       "      <th>City</th>\n",
       "      <th>Lat</th>\n",
       "      <th>Lng</th>\n",
       "      <th>Max Temp</th>\n",
       "      <th>Humidity</th>\n",
       "      <th>Cloudiness</th>\n",
       "      <th>Wind Speed</th>\n",
       "      <th>Country</th>\n",
       "      <th>Date</th>\n",
       "    </tr>\n",
       "  </thead>\n",
       "  <tbody>\n",
       "    <tr>\n",
       "      <th>0</th>\n",
       "      <td>oussouye</td>\n",
       "      <td>12.4850</td>\n",
       "      <td>-16.5469</td>\n",
       "      <td>23.10</td>\n",
       "      <td>52</td>\n",
       "      <td>3</td>\n",
       "      <td>4.99</td>\n",
       "      <td>SN</td>\n",
       "      <td>1675204097</td>\n",
       "    </tr>\n",
       "    <tr>\n",
       "      <th>1</th>\n",
       "      <td>bambous virieux</td>\n",
       "      <td>-20.3428</td>\n",
       "      <td>57.7575</td>\n",
       "      <td>26.14</td>\n",
       "      <td>89</td>\n",
       "      <td>40</td>\n",
       "      <td>2.57</td>\n",
       "      <td>MU</td>\n",
       "      <td>1675204097</td>\n",
       "    </tr>\n",
       "    <tr>\n",
       "      <th>2</th>\n",
       "      <td>ostersund</td>\n",
       "      <td>63.1792</td>\n",
       "      <td>14.6357</td>\n",
       "      <td>-6.75</td>\n",
       "      <td>100</td>\n",
       "      <td>20</td>\n",
       "      <td>2.06</td>\n",
       "      <td>SE</td>\n",
       "      <td>1675204098</td>\n",
       "    </tr>\n",
       "    <tr>\n",
       "      <th>3</th>\n",
       "      <td>albany</td>\n",
       "      <td>42.6001</td>\n",
       "      <td>-73.9662</td>\n",
       "      <td>-3.21</td>\n",
       "      <td>57</td>\n",
       "      <td>86</td>\n",
       "      <td>0.89</td>\n",
       "      <td>US</td>\n",
       "      <td>1675204098</td>\n",
       "    </tr>\n",
       "    <tr>\n",
       "      <th>4</th>\n",
       "      <td>chokurdakh</td>\n",
       "      <td>70.6333</td>\n",
       "      <td>147.9167</td>\n",
       "      <td>-16.71</td>\n",
       "      <td>97</td>\n",
       "      <td>100</td>\n",
       "      <td>0.87</td>\n",
       "      <td>RU</td>\n",
       "      <td>1675204099</td>\n",
       "    </tr>\n",
       "  </tbody>\n",
       "</table>\n",
       "</div>"
      ],
      "text/plain": [
       "              City      Lat       Lng  Max Temp  Humidity  Cloudiness  \\\n",
       "0         oussouye  12.4850  -16.5469     23.10        52           3   \n",
       "1  bambous virieux -20.3428   57.7575     26.14        89          40   \n",
       "2        ostersund  63.1792   14.6357     -6.75       100          20   \n",
       "3           albany  42.6001  -73.9662     -3.21        57          86   \n",
       "4       chokurdakh  70.6333  147.9167    -16.71        97         100   \n",
       "\n",
       "   Wind Speed Country        Date  \n",
       "0        4.99      SN  1675204097  \n",
       "1        2.57      MU  1675204097  \n",
       "2        2.06      SE  1675204098  \n",
       "3        0.89      US  1675204098  \n",
       "4        0.87      RU  1675204099  "
      ]
     },
     "execution_count": 13,
     "metadata": {},
     "output_type": "execute_result"
    }
   ],
   "source": [
    "# Display sample data\n",
    "city_data_df.head()"
   ]
  },
  {
   "cell_type": "code",
   "execution_count": 14,
   "metadata": {},
   "outputs": [],
   "source": [
    "# Export the City_Data into a csv\n",
    "city_data_df.to_csv(output_data_file, index_label=\"City_ID\")"
   ]
  },
  {
   "cell_type": "code",
   "execution_count": 15,
   "metadata": {},
   "outputs": [
    {
     "data": {
      "text/html": [
       "<div>\n",
       "<style scoped>\n",
       "    .dataframe tbody tr th:only-of-type {\n",
       "        vertical-align: middle;\n",
       "    }\n",
       "\n",
       "    .dataframe tbody tr th {\n",
       "        vertical-align: top;\n",
       "    }\n",
       "\n",
       "    .dataframe thead th {\n",
       "        text-align: right;\n",
       "    }\n",
       "</style>\n",
       "<table border=\"1\" class=\"dataframe\">\n",
       "  <thead>\n",
       "    <tr style=\"text-align: right;\">\n",
       "      <th></th>\n",
       "      <th>City</th>\n",
       "      <th>Lat</th>\n",
       "      <th>Lng</th>\n",
       "      <th>Max Temp</th>\n",
       "      <th>Humidity</th>\n",
       "      <th>Cloudiness</th>\n",
       "      <th>Wind Speed</th>\n",
       "      <th>Country</th>\n",
       "      <th>Date</th>\n",
       "    </tr>\n",
       "    <tr>\n",
       "      <th>City_ID</th>\n",
       "      <th></th>\n",
       "      <th></th>\n",
       "      <th></th>\n",
       "      <th></th>\n",
       "      <th></th>\n",
       "      <th></th>\n",
       "      <th></th>\n",
       "      <th></th>\n",
       "      <th></th>\n",
       "    </tr>\n",
       "  </thead>\n",
       "  <tbody>\n",
       "    <tr>\n",
       "      <th>0</th>\n",
       "      <td>oussouye</td>\n",
       "      <td>12.4850</td>\n",
       "      <td>-16.5469</td>\n",
       "      <td>23.10</td>\n",
       "      <td>52</td>\n",
       "      <td>3</td>\n",
       "      <td>4.99</td>\n",
       "      <td>SN</td>\n",
       "      <td>1675204097</td>\n",
       "    </tr>\n",
       "    <tr>\n",
       "      <th>1</th>\n",
       "      <td>bambous virieux</td>\n",
       "      <td>-20.3428</td>\n",
       "      <td>57.7575</td>\n",
       "      <td>26.14</td>\n",
       "      <td>89</td>\n",
       "      <td>40</td>\n",
       "      <td>2.57</td>\n",
       "      <td>MU</td>\n",
       "      <td>1675204097</td>\n",
       "    </tr>\n",
       "    <tr>\n",
       "      <th>2</th>\n",
       "      <td>ostersund</td>\n",
       "      <td>63.1792</td>\n",
       "      <td>14.6357</td>\n",
       "      <td>-6.75</td>\n",
       "      <td>100</td>\n",
       "      <td>20</td>\n",
       "      <td>2.06</td>\n",
       "      <td>SE</td>\n",
       "      <td>1675204098</td>\n",
       "    </tr>\n",
       "    <tr>\n",
       "      <th>3</th>\n",
       "      <td>albany</td>\n",
       "      <td>42.6001</td>\n",
       "      <td>-73.9662</td>\n",
       "      <td>-3.21</td>\n",
       "      <td>57</td>\n",
       "      <td>86</td>\n",
       "      <td>0.89</td>\n",
       "      <td>US</td>\n",
       "      <td>1675204098</td>\n",
       "    </tr>\n",
       "    <tr>\n",
       "      <th>4</th>\n",
       "      <td>chokurdakh</td>\n",
       "      <td>70.6333</td>\n",
       "      <td>147.9167</td>\n",
       "      <td>-16.71</td>\n",
       "      <td>97</td>\n",
       "      <td>100</td>\n",
       "      <td>0.87</td>\n",
       "      <td>RU</td>\n",
       "      <td>1675204099</td>\n",
       "    </tr>\n",
       "  </tbody>\n",
       "</table>\n",
       "</div>"
      ],
      "text/plain": [
       "                    City      Lat       Lng  Max Temp  Humidity  Cloudiness  \\\n",
       "City_ID                                                                       \n",
       "0               oussouye  12.4850  -16.5469     23.10        52           3   \n",
       "1        bambous virieux -20.3428   57.7575     26.14        89          40   \n",
       "2              ostersund  63.1792   14.6357     -6.75       100          20   \n",
       "3                 albany  42.6001  -73.9662     -3.21        57          86   \n",
       "4             chokurdakh  70.6333  147.9167    -16.71        97         100   \n",
       "\n",
       "         Wind Speed Country        Date  \n",
       "City_ID                                  \n",
       "0              4.99      SN  1675204097  \n",
       "1              2.57      MU  1675204097  \n",
       "2              2.06      SE  1675204098  \n",
       "3              0.89      US  1675204098  \n",
       "4              0.87      RU  1675204099  "
      ]
     },
     "execution_count": 15,
     "metadata": {},
     "output_type": "execute_result"
    }
   ],
   "source": [
    "# Read saved data\n",
    "city_data_df = pd.read_csv(output_data_file, index_col=\"City_ID\")\n",
    "\n",
    "# Display sample data\n",
    "city_data_df.head()"
   ]
  },
  {
   "cell_type": "markdown",
   "metadata": {},
   "source": [
    "### Create the Scatter Plots Requested\n",
    "\n",
    "#### Latitude Vs. Temperature"
   ]
  },
  {
   "cell_type": "code",
   "execution_count": 16,
   "metadata": {},
   "outputs": [],
   "source": [
    "lats = city_data_df[\"Lat\"]\n",
    "max_temps = city_data_df[\"Max Temp\"]\n",
    "humidity = city_data_df[\"Humidity\"]\n",
    "cloudiness = city_data_df[\"Cloudiness\"]\n",
    "wind_speed = city_data_df[\"Wind Speed\"]"
   ]
  },
  {
   "cell_type": "code",
   "execution_count": 18,
   "metadata": {
    "tags": []
   },
   "outputs": [
    {
     "data": {
      "image/png": "[encoded data removed]",
      "text/plain": [
       "<Figure size 432x288 with 1 Axes>"
      ]
     },
     "metadata": {
      "needs_background": "light"
     },
     "output_type": "display_data"
    }
   ],
   "source": [
    "# Build scatter plot for latitude vs. temperature\n",
    "\n",
    "plt.scatter(lats,\n",
    "            max_temps,\n",
    "           edgecolor=\"black\", linewidth=1, marker=\"o\",\n",
    "           alpha=0.8, label=\"Cities\")\n",
    "\n",
    "# Incorporate the other graph properties\n",
    "plt.title(\"City Latitude Vs. Max Temperature(%s)\" % time.strftime(\"%x\"))\n",
    "plt.ylabel(\"Max Temperature (C)\")\n",
    "plt.xlabel(\"Latitude\")\n",
    "plt.grid(True)\n",
    "\n",
    "# Save the figure\n",
    "plt.savefig(\"../resources/Fig1.png\")\n",
    "\n",
    "# Show plot\n",
    "plt.show()"
   ]
  },
  {
   "cell_type": "markdown",
   "metadata": {},
   "source": [
    "#### Latitude Vs. Humidity"
   ]
  },
  {
   "cell_type": "code",
   "execution_count": 19,
   "metadata": {},
   "outputs": [
    {
     "data": {
      "image/png": "[encoded data removed]",
      "text/plain": [
       "<Figure size 432x288 with 1 Axes>"
      ]
     },
     "metadata": {
      "needs_background": "light"
     },
     "output_type": "display_data"
    }
   ],
   "source": [
    "# Build the scatter plots for latitude vs. humidity\n",
    "plt.scatter(lats,\n",
    "            humidity,\n",
    "           edgecolor=\"black\", linewidth=1, marker=\"o\",\n",
    "           alpha=0.8, label=\"Cities\")\n",
    "\n",
    "# Incorporate the other graph properties\n",
    "plt.title(\"City Latitude Vs. Humidity(%s)\" % time.strftime(\"%x\"))\n",
    "plt.ylabel(\"Humidity (%)\")\n",
    "plt.xlabel(\"Latitude\")\n",
    "plt.grid(True)\n",
    "\n",
    "# Save the figure\n",
    "plt.savefig(\"../resources/Fig2.png\")\n",
    "\n",
    "# Show plot\n",
    "plt.show()"
   ]
  },
  {
   "cell_type": "markdown",
   "metadata": {},
   "source": [
    "#### Latitude Vs. Cloudiness"
   ]
  },
  {
   "cell_type": "code",
   "execution_count": 20,
   "metadata": {},
   "outputs": [
    {
     "data": {
      "image/png": "[encoded data removed]",
      "text/plain": [
       "<Figure size 432x288 with 1 Axes>"
      ]
     },
     "metadata": {
      "needs_background": "light"
     },
     "output_type": "display_data"
    }
   ],
   "source": [
    "# Build the scatter plots for latitude vs. cloudiness\n",
    "plt.scatter(lats,\n",
    "            cloudiness,\n",
    "           edgecolor=\"black\", linewidth=1, marker=\"o\",\n",
    "           alpha=0.8, label=\"Cities\")\n",
    "\n",
    "# Incorporate the other graph properties\n",
    "plt.title(\"City Latitude Vs. Cloudiness(%s)\" % time.strftime(\"%x\"))\n",
    "plt.ylabel(\"Cloudiness (%)\")\n",
    "plt.xlabel(\"Latitude\")\n",
    "plt.grid(True)\n",
    "\n",
    "# Save the figure\n",
    "plt.savefig(\"../resources/Fig3.png\")\n",
    "\n",
    "# Show plot\n",
    "plt.show()"
   ]
  },
  {
   "cell_type": "markdown",
   "metadata": {},
   "source": [
    "#### Latitude vs. Wind Speed Plot"
   ]
  },
  {
   "cell_type": "code",
   "execution_count": 21,
   "metadata": {},
   "outputs": [
    {
     "data": {
      "image/png": "[encoded data removed]",
      "text/plain": [
       "<Figure size 432x288 with 1 Axes>"
      ]
     },
     "metadata": {
      "needs_background": "light"
     },
     "output_type": "display_data"
    }
   ],
   "source": [
    "# Build the scatter plots for latitude vs. wind speed\n",
    "plt.scatter(lats,\n",
    "            cloudiness,\n",
    "           edgecolor=\"black\", linewidth=1, marker=\"o\",\n",
    "           alpha=0.8, label=\"Cities\")\n",
    "\n",
    "\n",
    "# Incorporate the other graph properties\n",
    "plt.title(\"City Latitude Vs. Cloudiness(%s)\" % time.strftime(\"%x\"))\n",
    "plt.ylabel(\"Cloudiness (%)\")\n",
    "plt.xlabel(\"Latitude\")\n",
    "plt.grid(True)\n",
    "\n",
    "# Save the figure\n",
    "plt.savefig(\"../resources/Fig4.png\")\n",
    "\n",
    "# Show plot\n",
    "plt.show()"
   ]
  },
  {
   "cell_type": "markdown",
   "metadata": {},
   "source": [
    "---\n",
    "\n",
    "## Requirement 2: Compute Linear Regression for Each Relationship\n"
   ]
  },
  {
   "cell_type": "code",
   "execution_count": 29,
   "metadata": {},
   "outputs": [],
   "source": [
    "# Define a function to create Linear Regression plots\n",
    "def plot_linear_regression(x_values,y_values,title,text_coordinates):\n",
    "    \n",
    "    #regression on southern hemisphere\n",
    "    (slope, intercept, rvalue, pvalue, stderr) = linregress (x_values,y_values)\n",
    "    regress_values = x_values * slope + intercept\n",
    "    line_eq = \"y = \" + str(round(slope,2)) + \" x + \" + str(round(intercept,2))\n",
    "    \n",
    "    #plot\n",
    "    plt.scatter(x_values,y_values)\n",
    "    plt.plot(x_values, regress_values, \"r-\")\n",
    "    plt.annotate(line_eq,text_coordinates, fontsize=15, color=\"red\")\n",
    "    plt.xlabel(\"Latitude\")\n",
    "    #plt.ylabel(\"Title\")\n",
    "    print(f\"The r-squared is: {rvalue}\")\n",
    "    plt.show()\n",
    "\n",
    "    "
   ]
  },
  {
   "cell_type": "code",
   "execution_count": 30,
   "metadata": {},
   "outputs": [
    {
     "data": {
      "text/html": [
       "<div>\n",
       "<style scoped>\n",
       "    .dataframe tbody tr th:only-of-type {\n",
       "        vertical-align: middle;\n",
       "    }\n",
       "\n",
       "    .dataframe tbody tr th {\n",
       "        vertical-align: top;\n",
       "    }\n",
       "\n",
       "    .dataframe thead th {\n",
       "        text-align: right;\n",
       "    }\n",
       "</style>\n",
       "<table border=\"1\" class=\"dataframe\">\n",
       "  <thead>\n",
       "    <tr style=\"text-align: right;\">\n",
       "      <th></th>\n",
       "      <th>City</th>\n",
       "      <th>Lat</th>\n",
       "      <th>Lng</th>\n",
       "      <th>Max Temp</th>\n",
       "      <th>Humidity</th>\n",
       "      <th>Cloudiness</th>\n",
       "      <th>Wind Speed</th>\n",
       "      <th>Country</th>\n",
       "      <th>Date</th>\n",
       "    </tr>\n",
       "    <tr>\n",
       "      <th>City_ID</th>\n",
       "      <th></th>\n",
       "      <th></th>\n",
       "      <th></th>\n",
       "      <th></th>\n",
       "      <th></th>\n",
       "      <th></th>\n",
       "      <th></th>\n",
       "      <th></th>\n",
       "      <th></th>\n",
       "    </tr>\n",
       "  </thead>\n",
       "  <tbody>\n",
       "    <tr>\n",
       "      <th>0</th>\n",
       "      <td>oussouye</td>\n",
       "      <td>12.4850</td>\n",
       "      <td>-16.5469</td>\n",
       "      <td>23.10</td>\n",
       "      <td>52</td>\n",
       "      <td>3</td>\n",
       "      <td>4.99</td>\n",
       "      <td>SN</td>\n",
       "      <td>1675204097</td>\n",
       "    </tr>\n",
       "    <tr>\n",
       "      <th>2</th>\n",
       "      <td>ostersund</td>\n",
       "      <td>63.1792</td>\n",
       "      <td>14.6357</td>\n",
       "      <td>-6.75</td>\n",
       "      <td>100</td>\n",
       "      <td>20</td>\n",
       "      <td>2.06</td>\n",
       "      <td>SE</td>\n",
       "      <td>1675204098</td>\n",
       "    </tr>\n",
       "    <tr>\n",
       "      <th>3</th>\n",
       "      <td>albany</td>\n",
       "      <td>42.6001</td>\n",
       "      <td>-73.9662</td>\n",
       "      <td>-3.21</td>\n",
       "      <td>57</td>\n",
       "      <td>86</td>\n",
       "      <td>0.89</td>\n",
       "      <td>US</td>\n",
       "      <td>1675204098</td>\n",
       "    </tr>\n",
       "    <tr>\n",
       "      <th>4</th>\n",
       "      <td>chokurdakh</td>\n",
       "      <td>70.6333</td>\n",
       "      <td>147.9167</td>\n",
       "      <td>-16.71</td>\n",
       "      <td>97</td>\n",
       "      <td>100</td>\n",
       "      <td>0.87</td>\n",
       "      <td>RU</td>\n",
       "      <td>1675204099</td>\n",
       "    </tr>\n",
       "    <tr>\n",
       "      <th>5</th>\n",
       "      <td>hilo</td>\n",
       "      <td>19.7297</td>\n",
       "      <td>-155.0900</td>\n",
       "      <td>23.68</td>\n",
       "      <td>94</td>\n",
       "      <td>75</td>\n",
       "      <td>1.54</td>\n",
       "      <td>US</td>\n",
       "      <td>1675204099</td>\n",
       "    </tr>\n",
       "  </tbody>\n",
       "</table>\n",
       "</div>"
      ],
      "text/plain": [
       "               City      Lat       Lng  Max Temp  Humidity  Cloudiness  \\\n",
       "City_ID                                                                  \n",
       "0          oussouye  12.4850  -16.5469     23.10        52           3   \n",
       "2         ostersund  63.1792   14.6357     -6.75       100          20   \n",
       "3            albany  42.6001  -73.9662     -3.21        57          86   \n",
       "4        chokurdakh  70.6333  147.9167    -16.71        97         100   \n",
       "5              hilo  19.7297 -155.0900     23.68        94          75   \n",
       "\n",
       "         Wind Speed Country        Date  \n",
       "City_ID                                  \n",
       "0              4.99      SN  1675204097  \n",
       "2              2.06      SE  1675204098  \n",
       "3              0.89      US  1675204098  \n",
       "4              0.87      RU  1675204099  \n",
       "5              1.54      US  1675204099  "
      ]
     },
     "execution_count": 30,
     "metadata": {},
     "output_type": "execute_result"
    }
   ],
   "source": [
    "# Create a DataFrame with the Northern Hemisphere data (Latitude >= 0)\n",
    "northern_hemi_df = city_data_df.loc[(city_data_df[\"Lat\"] >= 0)]\n",
    "\n",
    "# Display sample data\n",
    "northern_hemi_df.head()"
   ]
  },
  {
   "cell_type": "code",
   "execution_count": 31,
   "metadata": {},
   "outputs": [
    {
     "data": {
      "text/html": [
       "<div>\n",
       "<style scoped>\n",
       "    .dataframe tbody tr th:only-of-type {\n",
       "        vertical-align: middle;\n",
       "    }\n",
       "\n",
       "    .dataframe tbody tr th {\n",
       "        vertical-align: top;\n",
       "    }\n",
       "\n",
       "    .dataframe thead th {\n",
       "        text-align: right;\n",
       "    }\n",
       "</style>\n",
       "<table border=\"1\" class=\"dataframe\">\n",
       "  <thead>\n",
       "    <tr style=\"text-align: right;\">\n",
       "      <th></th>\n",
       "      <th>City</th>\n",
       "      <th>Lat</th>\n",
       "      <th>Lng</th>\n",
       "      <th>Max Temp</th>\n",
       "      <th>Humidity</th>\n",
       "      <th>Cloudiness</th>\n",
       "      <th>Wind Speed</th>\n",
       "      <th>Country</th>\n",
       "      <th>Date</th>\n",
       "    </tr>\n",
       "    <tr>\n",
       "      <th>City_ID</th>\n",
       "      <th></th>\n",
       "      <th></th>\n",
       "      <th></th>\n",
       "      <th></th>\n",
       "      <th></th>\n",
       "      <th></th>\n",
       "      <th></th>\n",
       "      <th></th>\n",
       "      <th></th>\n",
       "    </tr>\n",
       "  </thead>\n",
       "  <tbody>\n",
       "    <tr>\n",
       "      <th>1</th>\n",
       "      <td>bambous virieux</td>\n",
       "      <td>-20.3428</td>\n",
       "      <td>57.7575</td>\n",
       "      <td>26.14</td>\n",
       "      <td>89</td>\n",
       "      <td>40</td>\n",
       "      <td>2.57</td>\n",
       "      <td>MU</td>\n",
       "      <td>1675204097</td>\n",
       "    </tr>\n",
       "    <tr>\n",
       "      <th>6</th>\n",
       "      <td>ushuaia</td>\n",
       "      <td>-54.8000</td>\n",
       "      <td>-68.3000</td>\n",
       "      <td>12.81</td>\n",
       "      <td>58</td>\n",
       "      <td>40</td>\n",
       "      <td>2.06</td>\n",
       "      <td>AR</td>\n",
       "      <td>1675204099</td>\n",
       "    </tr>\n",
       "    <tr>\n",
       "      <th>8</th>\n",
       "      <td>mar del plata</td>\n",
       "      <td>-38.0023</td>\n",
       "      <td>-57.5575</td>\n",
       "      <td>23.94</td>\n",
       "      <td>86</td>\n",
       "      <td>75</td>\n",
       "      <td>7.20</td>\n",
       "      <td>AR</td>\n",
       "      <td>1675204100</td>\n",
       "    </tr>\n",
       "    <tr>\n",
       "      <th>9</th>\n",
       "      <td>sola</td>\n",
       "      <td>-13.8833</td>\n",
       "      <td>167.5500</td>\n",
       "      <td>26.41</td>\n",
       "      <td>77</td>\n",
       "      <td>98</td>\n",
       "      <td>1.93</td>\n",
       "      <td>VU</td>\n",
       "      <td>1675204100</td>\n",
       "    </tr>\n",
       "    <tr>\n",
       "      <th>10</th>\n",
       "      <td>manoel urbano</td>\n",
       "      <td>-8.8389</td>\n",
       "      <td>-69.2597</td>\n",
       "      <td>26.21</td>\n",
       "      <td>86</td>\n",
       "      <td>94</td>\n",
       "      <td>1.73</td>\n",
       "      <td>BR</td>\n",
       "      <td>1675204068</td>\n",
       "    </tr>\n",
       "  </tbody>\n",
       "</table>\n",
       "</div>"
      ],
      "text/plain": [
       "                    City      Lat       Lng  Max Temp  Humidity  Cloudiness  \\\n",
       "City_ID                                                                       \n",
       "1        bambous virieux -20.3428   57.7575     26.14        89          40   \n",
       "6                ushuaia -54.8000  -68.3000     12.81        58          40   \n",
       "8          mar del plata -38.0023  -57.5575     23.94        86          75   \n",
       "9                   sola -13.8833  167.5500     26.41        77          98   \n",
       "10         manoel urbano  -8.8389  -69.2597     26.21        86          94   \n",
       "\n",
       "         Wind Speed Country        Date  \n",
       "City_ID                                  \n",
       "1              2.57      MU  1675204097  \n",
       "6              2.06      AR  1675204099  \n",
       "8              7.20      AR  1675204100  \n",
       "9              1.93      VU  1675204100  \n",
       "10             1.73      BR  1675204068  "
      ]
     },
     "execution_count": 31,
     "metadata": {},
     "output_type": "execute_result"
    }
   ],
   "source": [
    "# Create a DataFrame with the Southern Hemisphere data (Latitude < 0)\n",
    "southern_hemi_df = city_data_df.loc[(city_data_df[\"Lat\"] <0)]\n",
    "\n",
    "# Display sample data\n",
    "southern_hemi_df.head()"
   ]
  },
  {
   "cell_type": "markdown",
   "metadata": {},
   "source": [
    "###  Temperature vs. Latitude Linear Regression Plot"
   ]
  },
  {
   "cell_type": "code",
   "execution_count": 32,
   "metadata": {},
   "outputs": [
    {
     "name": "stdout",
     "output_type": "stream",
     "text": [
      "The r-squared is: -0.8441705413997802\n"
     ]
    },
    {
     "data": {
      "image/png": "[encoded data removed]",
      "text/plain": [
       "<Figure size 432x288 with 1 Axes>"
      ]
     },
     "metadata": {
      "needs_background": "light"
     },
     "output_type": "display_data"
    }
   ],
   "source": [
    "# Linear regression on Northern Hemisphere\n",
    "x_values = northern_hemi_df [\"Lat\"]\n",
    "y_values = northern_hemi_df [\"Max Temp\"]\n",
    "plt.ylabel(\"Max Temp\")\n",
    "plot_linear_regression(x_values,y_values, 'Max Temp', (6,30))\n"
   ]
  },
  {
   "cell_type": "code",
   "execution_count": 33,
   "metadata": {},
   "outputs": [
    {
     "name": "stdout",
     "output_type": "stream",
     "text": [
      "The r-squared is: 0.3828544979459451\n"
     ]
    },
    {
     "data": {
      "image/png": "[encoded data removed]",
      "text/plain": [
       "<Figure size 432x288 with 1 Axes>"
      ]
     },
     "metadata": {
      "needs_background": "light"
     },
     "output_type": "display_data"
    }
   ],
   "source": [
    "# Linear regression on Southern Hemisphere\n",
    "x_values = southern_hemi_df [\"Lat\"]\n",
    "y_values = southern_hemi_df [\"Max Temp\"]\n",
    "plt.ylabel(\"Max Temp\")\n",
    "plot_linear_regression(x_values,y_values, 'Max Temp', (-30,40))"
   ]
  },
  {
   "cell_type": "markdown",
   "metadata": {},
   "source": [
    "**Discussion about the linear relationship:** When comparing the temperature and latitude of the northern hemisphere there is a high negative correlation because the r-squared value is -0.83. For the the Southern Hemisphere there is a low positive correlation because the r-squared value is 0.41."
   ]
  },
  {
   "cell_type": "markdown",
   "metadata": {},
   "source": [
    "### Humidity vs. Latitude Linear Regression Plot"
   ]
  },
  {
   "cell_type": "code",
   "execution_count": 35,
   "metadata": {},
   "outputs": [
    {
     "name": "stdout",
     "output_type": "stream",
     "text": [
      "The r-squared is: 0.43693642496512375\n"
     ]
    },
    {
     "data": {
      "image/png": "[encoded data removed]",
      "text/plain": [
       "<Figure size 432x288 with 1 Axes>"
      ]
     },
     "metadata": {
      "needs_background": "light"
     },
     "output_type": "display_data"
    }
   ],
   "source": [
    "# Northern Hemisphere\n",
    "x_values = northern_hemi_df [\"Lat\"]\n",
    "y_values = northern_hemi_df [\"Humidity\"]\n",
    "plt.ylabel(\"Humidity\")\n",
    "plot_linear_regression(x_values,y_values, 'Humidity', (40,10))"
   ]
  },
  {
   "cell_type": "code",
   "execution_count": 36,
   "metadata": {},
   "outputs": [
    {
     "name": "stdout",
     "output_type": "stream",
     "text": [
      "The r-squared is: 0.28011897477085934\n"
     ]
    },
    {
     "data": {
      "image/png": "[encoded data removed]",
      "text/plain": [
       "<Figure size 432x288 with 1 Axes>"
      ]
     },
     "metadata": {
      "needs_background": "light"
     },
     "output_type": "display_data"
    }
   ],
   "source": [
    "# Southern Hemisphere\n",
    "x_values = southern_hemi_df [\"Lat\"]\n",
    "y_values = southern_hemi_df [\"Humidity\"]\n",
    "plt.ylabel(\"Humidity\")\n",
    "plot_linear_regression(x_values,y_values, 'Humidity', (-30,150))"
   ]
  },
  {
   "cell_type": "markdown",
   "metadata": {},
   "source": [
    "**Discussion about the linear relationship:**  When comparing the humidity and latitude of the northern hemisphere there is a low positive correlation because the r-squared value is 0.42. For the the Southern Hemisphere there is a negligible correlation because the r-squared value is 0.22."
   ]
  },
  {
   "cell_type": "markdown",
   "metadata": {},
   "source": [
    "### Cloudiness vs. Latitude Linear Regression Plot"
   ]
  },
  {
   "cell_type": "code",
   "execution_count": 37,
   "metadata": {},
   "outputs": [
    {
     "name": "stdout",
     "output_type": "stream",
     "text": [
      "The r-squared is: 0.32581441346213086\n"
     ]
    },
    {
     "data": {
      "image/png": "[encoded data removed]",
      "text/plain": [
       "<Figure size 432x288 with 1 Axes>"
      ]
     },
     "metadata": {
      "needs_background": "light"
     },
     "output_type": "display_data"
    }
   ],
   "source": [
    "# Northern Hemisphere\n",
    "x_values = northern_hemi_df [\"Lat\"]\n",
    "y_values = northern_hemi_df [\"Cloudiness\"]\n",
    "plt.ylabel(\"Cloudiness\")\n",
    "plot_linear_regression(x_values,y_values, 'Cloudiness', (40,10))"
   ]
  },
  {
   "cell_type": "code",
   "execution_count": 38,
   "metadata": {},
   "outputs": [
    {
     "name": "stdout",
     "output_type": "stream",
     "text": [
      "The r-squared is: 0.32765600970006803\n"
     ]
    },
    {
     "data": {
      "image/png": "[encoded data removed]",
      "text/plain": [
       "<Figure size 432x288 with 1 Axes>"
      ]
     },
     "metadata": {
      "needs_background": "light"
     },
     "output_type": "display_data"
    }
   ],
   "source": [
    "# Southern Hemisphere\n",
    "x_values = southern_hemi_df [\"Lat\"]\n",
    "y_values = southern_hemi_df [\"Cloudiness\"] \n",
    "plt.ylabel(\"Cloudiness\")\n",
    "plot_linear_regression(x_values,y_values, 'Cloudiness', (-30,30))"
   ]
  },
  {
   "cell_type": "markdown",
   "metadata": {},
   "source": [
    "**Discussion about the linear relationship:** When comparing the cloudiness and latitude of the northern hemisphere there is a low positive correlation because the r-squared value is 0.31. For the the Southern Hemisphere there is a negligible correlation because the r-squared value is 0.19."
   ]
  },
  {
   "cell_type": "markdown",
   "metadata": {},
   "source": [
    "### Wind Speed vs. Latitude Linear Regression Plot"
   ]
  },
  {
   "cell_type": "code",
   "execution_count": 39,
   "metadata": {},
   "outputs": [
    {
     "name": "stdout",
     "output_type": "stream",
     "text": [
      "The r-squared is: 0.14659491177932701\n"
     ]
    },
    {
     "data": {
      "image/png": "[encoded data removed]",
      "text/plain": [
       "<Figure size 432x288 with 1 Axes>"
      ]
     },
     "metadata": {
      "needs_background": "light"
     },
     "output_type": "display_data"
    }
   ],
   "source": [
    "# Northern Hemisphere\n",
    "x_values = northern_hemi_df [\"Lat\"]\n",
    "y_values = northern_hemi_df [\"Wind Speed\"]\n",
    "plt.ylabel(\"Wind Speed\")\n",
    "plot_linear_regression(x_values,y_values, 'Windspeed', (40,25))"
   ]
  },
  {
   "cell_type": "code",
   "execution_count": 40,
   "metadata": {},
   "outputs": [
    {
     "name": "stdout",
     "output_type": "stream",
     "text": [
      "The r-squared is: -0.24295828873551348\n"
     ]
    },
    {
     "data": {
      "image/png": "[encoded data removed]",
      "text/plain": [
       "<Figure size 432x288 with 1 Axes>"
      ]
     },
     "metadata": {
      "needs_background": "light"
     },
     "output_type": "display_data"
    }
   ],
   "source": [
    "# Southern Hemisphere\n",
    "x_values = southern_hemi_df [\"Lat\"]\n",
    "y_values = southern_hemi_df [\"Wind Speed\"]\n",
    "plt.ylabel(\"Wind Speed\")\n",
    "plot_linear_regression(x_values,y_values, 'Wind Speed', (-30,30))"
   ]
  },
  {
   "cell_type": "markdown",
   "metadata": {},
   "source": [
    "**Discussion about the linear relationship:** When comparing the wind speed and latitude for the northern hemisphere there is a negligible correlation because the r-squared value is 0.05. For the the Southern Hemisphere there is a low negative correlation because the r-squared value is 0.05."
   ]
  },
  {
   "cell_type": "code",
   "execution_count": null,
   "metadata": {},
   "outputs": [],
   "source": []
  }
 ],
 "metadata": {
  "anaconda-cloud": {},
  "kernel_info": {
   "name": "python3"
  },
  "kernelspec": {
   "display_name": "PythonData",
   "language": "python",
   "name": "pythondata"
  },
  "language_info": {
   "codemirror_mode": {
    "name": "ipython",
    "version": 3
   },
   "file_extension": ".py",
   "mimetype": "text/x-python",
   "name": "python",
   "nbconvert_exporter": "python",
   "pygments_lexer": "ipython3",
   "version": "3.7.7"
  },
  "latex_envs": {
   "LaTeX_envs_menu_present": true,
   "autoclose": false,
   "autocomplete": true,
   "bibliofile": "biblio.bib",
   "cite_by": "apalike",
   "current_citInitial": 1,
   "eqLabelWithNumbers": true,
   "eqNumInitial": 1,
   "hotkeys": {
    "equation": "Ctrl-E",
    "itemize": "Ctrl-I"
   },
   "labels_anchors": false,
   "latex_user_defs": false,
   "report_style_numbering": false,
   "user_envs_cfg": false
  },
  "nteract": {
   "version": "0.12.3"
  }
 },
 "nbformat": 4,
 "nbformat_minor": 4
}
